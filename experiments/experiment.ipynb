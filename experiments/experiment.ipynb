{
 "metadata": {
  "language_info": {
   "codemirror_mode": {
    "name": "ipython",
    "version": 3
   },
   "file_extension": ".py",
   "mimetype": "text/x-python",
   "name": "python",
   "nbconvert_exporter": "python",
   "pygments_lexer": "ipython3",
   "version": "3.8.7-final"
  },
  "orig_nbformat": 2,
  "kernelspec": {
   "name": "python3",
   "display_name": "Python 3.8.7 64-bit",
   "metadata": {
    "interpreter": {
     "hash": "aee8b7b246df8f9039afb4144a1f6fd8d2ca17a180786b69acc140d282b71a49"
    }
   }
  }
 },
 "nbformat": 4,
 "nbformat_minor": 2,
 "cells": [
  {
   "cell_type": "code",
   "execution_count": 45,
   "metadata": {},
   "outputs": [],
   "source": [
    "from mapbox import Geocoder\n",
    "from os import environ\n",
    "from pprint import pprint"
   ]
  },
  {
   "cell_type": "code",
   "execution_count": 106,
   "metadata": {},
   "outputs": [],
   "source": [
    "my_pos_input = \"(22.154751, 65.584160)\"\n",
    "#print(os.environ.get(\"MAPBOX_ACCESS_TOKEN\"))"
   ]
  },
  {
   "cell_type": "code",
   "execution_count": 107,
   "metadata": {},
   "outputs": [],
   "source": [
    "geocoder = Geocoder()"
   ]
  },
  {
   "cell_type": "code",
   "execution_count": 77,
   "metadata": {},
   "outputs": [],
   "source": [
    "response = geocoder.forward(\"uddevalla\", limit=1).json()\n",
    "features = response['features']\n",
    "if len(features) == 0:\n",
    "    print(\"No results for your query\")"
   ]
  },
  {
   "cell_type": "code",
   "execution_count": 78,
   "metadata": {},
   "outputs": [],
   "source": [
    "bbox_scandinavia = (0.105400,53.944367,32.712822,72.148786)\n",
    "center_scandinavia = (16.347656,64.510643)"
   ]
  },
  {
   "cell_type": "code",
   "execution_count": 79,
   "metadata": {},
   "outputs": [
    {
     "output_type": "stream",
     "name": "stdout",
     "text": [
      "{'bbox': [11.486977, 58.234416, 12.155384, 58.5067],\n 'center': [11.91667, 58.35],\n 'context': [{'id': 'region.9993741667350370',\n              'short_code': 'SE-O',\n              'text': 'Västra Götaland',\n              'wikidata': 'Q103093'},\n             {'id': 'country.10685795727764470',\n              'short_code': 'se',\n              'text': 'Sweden',\n              'wikidata': 'Q34'}],\n 'geometry': {'coordinates': [11.91667, 58.35], 'type': 'Point'},\n 'id': 'place.14236219483880130',\n 'place_name': 'Uddevalla, Västra Götaland, Sweden',\n 'place_type': ['place'],\n 'properties': {'wikidata': 'Q27447'},\n 'relevance': 1,\n 'text': 'Uddevalla',\n 'type': 'Feature'}\nUddevalla, Västra Götaland, Sweden  has the center  (11.91667, 58.35)\n"
     ]
    }
   ],
   "source": [
    "\n",
    "feature = features[0]\n",
    "pprint(feature)\n",
    "\n",
    "\n",
    "print(feature[\"place_name\"], \" has the center \", tuple(feature[\"center\"]))\n",
    "\n"
   ]
  },
  {
   "cell_type": "code",
   "execution_count": 100,
   "metadata": {},
   "outputs": [],
   "source": [
    "def forward_geocode(query):\n",
    "    \"\"\"\n",
    "    Takes a query and returns the center coordinates as a tuple\n",
    "    Args:\n",
    "        query: str containing the name of a place\n",
    "    \"\"\"\n",
    "    response = geocoder.forward(query, limit=3, types=['country', 'place', 'address']).json()\n",
    "    features = response['features']\n",
    "    if len(features) == 0:\n",
    "        return \"Your search query yielded no results\"\n",
    "    return features[0]"
   ]
  },
  {
   "cell_type": "code",
   "execution_count": 102,
   "metadata": {},
   "outputs": [
    {
     "output_type": "execute_result",
     "data": {
      "text/plain": [
       "{'id': 'country.10685795727764470',\n",
       " 'type': 'Feature',\n",
       " 'place_type': ['country'],\n",
       " 'relevance': 1,\n",
       " 'properties': {'wikidata': 'Q34', 'short_code': 'se'},\n",
       " 'text': 'Sweden',\n",
       " 'place_name': 'Sweden',\n",
       " 'bbox': [10.8383668128319,\n",
       "  55.280224001785,\n",
       "  24.1933684832876,\n",
       "  69.0599269995724],\n",
       " 'center': [17.6754094331351, 64.9648751621697],\n",
       " 'geometry': {'type': 'Point',\n",
       "  'coordinates': [17.6754094331351, 64.9648751621697]}}"
      ]
     },
     "metadata": {},
     "execution_count": 102
    }
   ],
   "source": [
    "forward_geocode(\"sweden\")"
   ]
  },
  {
   "cell_type": "code",
   "execution_count": null,
   "metadata": {},
   "outputs": [],
   "source": []
  }
 ]
}